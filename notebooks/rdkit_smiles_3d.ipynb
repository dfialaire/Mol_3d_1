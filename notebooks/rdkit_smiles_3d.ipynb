{
 "cells": [
  {
   "cell_type": "markdown",
   "metadata": {},
   "source": [
    "# Requirement: rdkit\n",
    "\n",
    "```bash\n",
    "conda install rdkit -c rdkit\n",
    "```"
   ]
  },
  {
   "cell_type": "code",
   "execution_count": 5,
   "metadata": {},
   "outputs": [
    {
     "data": {
      "application/vnd.jupyter.widget-view+json": {
       "model_id": "5988cc407f3e40e3b26de2821c4adb3c",
       "version_major": 2,
       "version_minor": 0
      },
      "text/plain": [
       "HTML(value='\\n<style>\\n\\n.smilesApp {\\n    background-color: white\\n}\\n</style>\\n')"
      ]
     },
     "metadata": {},
     "output_type": "display_data"
    }
   ],
   "source": [
    "from ipywidgets import HTML\n",
    "\n",
    "HTML(\"\"\"\n",
    "<style>\n",
    "\n",
    ".smilesApp {\n",
    "    background-color: white\n",
    "}\n",
    "</style>\n",
    "\"\"\")"
   ]
  },
  {
   "cell_type": "code",
   "execution_count": 11,
   "metadata": {
    "scrolled": false
   },
   "outputs": [
    {
     "data": {
      "application/vnd.jupyter.widget-view+json": {
       "model_id": "85ecb0f0a4ca42b7a0009ba93278fb7d",
       "version_major": 2,
       "version_minor": 0
      },
      "text/plain": [
       "Fullscreen()"
      ]
     },
     "metadata": {},
     "output_type": "display_data"
    },
    {
     "data": {
      "application/vnd.jupyter.widget-view+json": {
       "model_id": "f304a4d903ec44a78448b761a29353b4",
       "version_major": 2,
       "version_minor": 0
      },
      "text/plain": [
       "SmilesView(children=(HBox(children=(VBox(children=(Text(value=''), Output())), VBox(children=(Button(descripti…"
      ]
     },
     "metadata": {},
     "output_type": "display_data"
    }
   ],
   "source": [
    "import nglview as nv\n",
    "from IPython.display import display\n",
    "from nglview.widget import Fullscreen\n",
    "from ipywidgets import Text, Button, AppLayout, VBox, HBox, Output, GridspecLayout, Checkbox, Image\n",
    "import nglview as nv\n",
    "from rdkit import Chem # doctest: +SKIP\n",
    "from rdkit.Chem import AllChem\n",
    "from rdkit import Chem\n",
    "from rdkit.Chem import Draw\n",
    "from rdkit.Chem import rdDepictor\n",
    "from rdkit.Chem.Draw import rdMolDraw2D\n",
    "from io import BytesIO\n",
    "\n",
    "\n",
    "class SmilesView(AppLayout):\n",
    "    def __init__(self, *args, **kwargs):\n",
    "        super().__init__(*args, **kwargs)\n",
    "        self.view = nv.NGLWidget()\n",
    "        self.view.gui_style = 'ngl'\n",
    "        self.view.background = 'black'\n",
    "        self.text = Text()\n",
    "        btn = Button(description='Generate')\n",
    "        btn_fs = Button(description='Fullscreen')\n",
    "        self.center = self.view\n",
    "        self._out = Output()\n",
    "        self._err = Output()\n",
    "        self._check = Checkbox(description='Replace', value=True)\n",
    "        bgen = VBox([self.text, self._out])\n",
    "        bfull = VBox([btn, btn_fs])\n",
    "        footer = self.footer = HBox([bgen, bfull])\n",
    "        # self.left_sidebar = lbar = Image()\n",
    "        # self.left_sidebar.layout.align_self = 'center'\n",
    "        # lbar.layout.display = 'none'\n",
    "        self._fs = Fullscreen(self, [self.view])\n",
    "        self.footer.layout.justify_content = 'center'\n",
    "        display(self._fs)\n",
    "        self._m = None\n",
    "        @btn.on_click\n",
    "        def on_click_smiles(_):\n",
    "            self._handle_smiles_changed()\n",
    "        \n",
    "        @btn_fs.on_click\n",
    "        def on_click_fs(_):\n",
    "            self._fs.fullscreen()\n",
    "        \n",
    "        self.on_displayed(self.display_callback)\n",
    "        \n",
    "    def display_callback(self, _):\n",
    "        s.layout.height = '600px'\n",
    "        s.view.handle_resize()\n",
    "            \n",
    "    def _handle_smiles_changed(self):\n",
    "        self._out.clear_output()\n",
    "        self._err.clear_output()\n",
    "        st = None\n",
    "        with self._err:\n",
    "            m = Chem.MolFromSmiles(self.text.value)\n",
    "            print(type(m))\n",
    "            m = Chem.AddHs(m)\n",
    "            print(type(m))\n",
    "            Chem.AllChem.EmbedMultipleConfs(m, useExpTorsionAnglePrefs=True, useBasicKnowledge=True)\n",
    "            st = nv.RdkitStructure(m)\n",
    "            self._m = m\n",
    "            self._rdm = st\n",
    "            # self.left_sidebar.value = m._repr_png_()\n",
    "            # self.left_sidebar.layout.display = 'flex'\n",
    "\n",
    "        if st:\n",
    "            if self.view.n_components == 0:\n",
    "                self.view.add_component(st, default=False)\n",
    "                self.view.add_licorice('/0')\n",
    "                self.view.center()\n",
    "            else:\n",
    "                struct = dict(data=st.get_structure_string(), ext='pdb')\n",
    "                self.view._remote_call('replaceStructure', args=[struct])\n",
    "        else:\n",
    "            self._out.append_stdout(\"ERROR: bad input\")\n",
    "        \n",
    "s = SmilesView()\n",
    "s.add_class('smilesApp')\n",
    "# smiles example:\n",
    "# COc1ccc2[C@H](O)[C@@H](COc2c1)N3CCC(O)(CC3)c4ccc(F)cc4\n",
    "s"
   ]
  }
 ],
 "metadata": {
  "kernelspec": {
   "display_name": "Python 3",
   "language": "python",
   "name": "python3"
  },
  "language_info": {
   "codemirror_mode": {
    "name": "ipython",
    "version": 3
   },
   "file_extension": ".py",
   "mimetype": "text/x-python",
   "name": "python",
   "nbconvert_exporter": "python",
   "pygments_lexer": "ipython3",
   "version": "3.7.3"
  }
 },
 "nbformat": 4,
 "nbformat_minor": 2
}
