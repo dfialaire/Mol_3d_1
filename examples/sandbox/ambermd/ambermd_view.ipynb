{
 "cells": [
  {
   "cell_type": "markdown",
   "metadata": {},
   "source": [
    "# Import AmberMD viewer"
   ]
  },
  {
   "cell_type": "code",
   "execution_count": 15,
   "metadata": {
    "collapsed": true
   },
   "outputs": [],
   "source": [
    "from nglview.sandbox.amber import AmberMD"
   ]
  },
  {
   "cell_type": "markdown",
   "metadata": {},
   "source": [
    "# Run simulation"
   ]
  },
  {
   "cell_type": "code",
   "execution_count": 16,
   "metadata": {
    "collapsed": false
   },
   "outputs": [
    {
     "data": {
      "text/plain": [
       "<subprocess.Popen at 0x7f98d46679e8>"
      ]
     },
     "execution_count": 16,
     "metadata": {},
     "output_type": "execute_result"
    }
   ],
   "source": [
    "# require sander\n",
    "import os\n",
    "import subprocess\n",
    "\n",
    "amberhome = os.environ.get('AMBERHOME')\n",
    "sander = amberhome + '/bin/sander'\n",
    "command = \"{} -O -i md.in -p peptide.top -c min.rst7 -x md.nc -r md.r -inf md.info\".format(sander)\n",
    "process = subprocess.Popen(command.split())\n",
    "process"
   ]
  },
  {
   "cell_type": "markdown",
   "metadata": {},
   "source": [
    "# Create viewer handler"
   ]
  },
  {
   "cell_type": "code",
   "execution_count": 17,
   "metadata": {
    "collapsed": false
   },
   "outputs": [],
   "source": [
    "# use reference for superpose\n",
    "ambermd = AmberMD(top='./peptide.top', restart='./md.r', reference='./min.rst7')\n",
    "ambermd.initialize(gui=True)"
   ]
  },
  {
   "cell_type": "markdown",
   "metadata": {},
   "source": [
    "# Update coordinate"
   ]
  },
  {
   "cell_type": "code",
   "execution_count": 18,
   "metadata": {
    "collapsed": false
   },
   "outputs": [],
   "source": [
    "ambermd.update(every=0.2, timeout=600)"
   ]
  },
  {
   "cell_type": "markdown",
   "metadata": {},
   "source": [
    "# Stop simulation"
   ]
  },
  {
   "cell_type": "code",
   "execution_count": null,
   "metadata": {
    "collapsed": true
   },
   "outputs": [],
   "source": [
    "# uncomment\n",
    "# process.terminate()"
   ]
  },
  {
   "cell_type": "markdown",
   "metadata": {},
   "source": [
    "# Do other stuff"
   ]
  },
  {
   "cell_type": "code",
   "execution_count": null,
   "metadata": {
    "collapsed": false
   },
   "outputs": [],
   "source": [
    "# You can do other stuff here\n",
    "\n",
    "# ambermd.view.add_axes()\n",
    "# ambermd.view.add_line()\n",
    "# ambermd.view.remove_axes()"
   ]
  },
  {
   "cell_type": "code",
   "execution_count": 5,
   "metadata": {
    "collapsed": true
   },
   "outputs": [],
   "source": [
    "ambermd.view.add_ball_and_stick()"
   ]
  },
  {
   "cell_type": "code",
   "execution_count": 10,
   "metadata": {
    "collapsed": true
   },
   "outputs": [],
   "source": [
    "ambermd.stop()"
   ]
  }
 ],
 "metadata": {
  "anaconda-cloud": {},
  "kernelspec": {
   "display_name": "Python [default]",
   "language": "python",
   "name": "python3"
  },
  "language_info": {
   "codemirror_mode": {
    "name": "ipython",
    "version": 3
   },
   "file_extension": ".py",
   "mimetype": "text/x-python",
   "name": "python",
   "nbconvert_exporter": "python",
   "pygments_lexer": "ipython3",
   "version": "3.5.1"
  },
  "widgets": {
   "state": {
    "027cf7c1c6e549f485714b4d790d9ca7": {
     "views": [
      {
       "cell_index": 5
      }
     ]
    },
    "183726510572407489c345519f267858": {
     "views": [
      {
       "cell_index": 5
      }
     ]
    },
    "682fd4c6d92f41d5a0e408aa238374e0": {
     "views": [
      {
       "cell_index": 5
      }
     ]
    },
    "cd1293e77e87498982a794c01b241fda": {
     "views": [
      {
       "cell_index": 5
      }
     ]
    }
   },
   "version": "1.2.0"
  }
 },
 "nbformat": 4,
 "nbformat_minor": 0
}
