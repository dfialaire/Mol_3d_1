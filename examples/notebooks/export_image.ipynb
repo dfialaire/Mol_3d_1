{
 "cells": [
  {
   "cell_type": "code",
   "execution_count": 9,
   "metadata": {
    "collapsed": true
   },
   "outputs": [],
   "source": [
    "import nglview as nv\n",
    "\n",
    "view = nv.show_structure_file(nv.datafiles.PDB)\n",
    "view"
   ]
  },
  {
   "cell_type": "markdown",
   "metadata": {},
   "source": [
    "# Save and restore orientation\n",
    "\n",
    "To reproduce exact figures it is helpful to save the orientation. This can be done by activating\n",
    "the camera sync and get/set the orientation"
   ]
  },
  {
   "cell_type": "code",
   "execution_count": 10,
   "metadata": {
    "collapsed": true
   },
   "outputs": [],
   "source": [
    "view._set_sync_camera()"
   ]
  },
  {
   "cell_type": "code",
   "execution_count": 8,
   "metadata": {
    "collapsed": false
   },
   "outputs": [
    {
     "data": {
      "text/plain": [
       "[[40.204999923706055, 42.970001220703125, 44.16499936580658],\n",
       " [-62.030037138993364, 56.448801379321594, 59.82050977862821],\n",
       " [0.19781786069447127, 0.6766047765785576, 0.7092771463266954]]"
      ]
     },
     "execution_count": 8,
     "metadata": {},
     "output_type": "execute_result"
    }
   ],
   "source": [
    "# get orientation after rotation of molecule\n",
    "view.orientation"
   ]
  },
  {
   "cell_type": "code",
   "execution_count": 12,
   "metadata": {
    "collapsed": true
   },
   "outputs": [],
   "source": [
    "# set orientation \n",
    "# this will update the orientation but must be executed in a different cell\n",
    "view.orientation = [[40.204999923706055, 42.970001220703125, 44.16499936580658],\n",
    "                    [-62.030037138993364, 56.448801379321594, 59.82050977862821],\n",
    "                    [0.19781786069447127, 0.6766047765785576, 0.7092771463266954]]"
   ]
  },
  {
   "cell_type": "markdown",
   "metadata": {},
   "source": [
    "# Setting image size\n",
    "\n",
    "This can be used to get exact sized figures everytime"
   ]
  },
  {
   "cell_type": "code",
   "execution_count": 14,
   "metadata": {
    "collapsed": true
   },
   "outputs": [],
   "source": [
    "view._remote_call(\"setSize\", target=\"Widget\", args=[\"500px\", \"500px\"])\n",
    "# Center and zoom molecule\n",
    "view.center_view()"
   ]
  },
  {
   "cell_type": "markdown",
   "metadata": {},
   "source": [
    "# Download image"
   ]
  },
  {
   "cell_type": "code",
   "execution_count": 2,
   "metadata": {
    "collapsed": true
   },
   "outputs": [],
   "source": [
    "view.download_image()"
   ]
  },
  {
   "cell_type": "markdown",
   "metadata": {},
   "source": [
    "# Render snapshot and display it in this notebook"
   ]
  },
  {
   "cell_type": "code",
   "execution_count": 15,
   "metadata": {
    "collapsed": true
   },
   "outputs": [],
   "source": [
    "view.render_image()"
   ]
  },
  {
   "cell_type": "code",
   "execution_count": 16,
   "metadata": {
    "collapsed": false
   },
   "outputs": [
    {
     "data": {
      "image/png": "",
      "text/plain": [
       "<IPython.core.display.Image object>"
      ]
     },
     "execution_count": 16,
     "metadata": {},
     "output_type": "execute_result"
    }
   ],
   "source": [
    "# need to run below command in different notebook cell\n",
    "\n",
    "view._display_image()"
   ]
  },
  {
   "cell_type": "markdown",
   "metadata": {},
   "source": [
    "# Tips\n",
    "\n",
    "- specify `factor` value to control image quality.\n",
    "\n",
    "    ```python\n",
    "    view.render_image(factor=6) # higher is better\n",
    "    ```"
   ]
  }
 ],
 "metadata": {
  "kernelspec": {
   "display_name": "Python [conda root]",
   "language": "python",
   "name": "conda-root-py"
  },
  "language_info": {
   "codemirror_mode": {
    "name": "ipython",
    "version": 2
   },
   "file_extension": ".py",
   "mimetype": "text/x-python",
   "name": "python",
   "nbconvert_exporter": "python",
   "pygments_lexer": "ipython2",
   "version": "2.7.12"
  },
  "toc": {
   "colors": {
    "hover_highlight": "#DAA520",
    "running_highlight": "#FF0000",
    "selected_highlight": "#FFD700"
   },
   "moveMenuLeft": true,
   "nav_menu": {
    "height": "118px",
    "width": "252px"
   },
   "navigate_menu": true,
   "number_sections": true,
   "sideBar": true,
   "threshold": 4,
   "toc_cell": false,
   "toc_section_display": "block",
   "toc_window_display": false
  },
  "widgets": {
   "state": {
    "0e474fdcffa146bda69236b67cbe9cd0": {
     "views": [
      {
       "cell_index": 0
      }
     ]
    },
    "e04ca8da411b4c3583f3e9b4ef54d8d6": {
     "views": [
      {
       "cell_index": 0
      }
     ]
    },
    "e65dd9e3378a46048f91619e5a481485": {
     "views": [
      {
       "cell_index": 0
      }
     ]
    }
   },
   "version": "1.2.0"
  }
 },
 "nbformat": 4,
 "nbformat_minor": 0
}
