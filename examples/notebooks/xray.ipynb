{
 "cells": [
  {
   "cell_type": "code",
   "execution_count": 24,
   "metadata": {},
   "outputs": [
    {
     "data": {
      "application/vnd.jupyter.widget-view+json": {
       "model_id": "f0deeaadf3f24712a5d957adf407b6a6",
       "version_major": "2",
       "version_minor": "0"
      },
      "text/plain": [
       "A Jupyter Widget"
      ]
     },
     "metadata": {},
     "output_type": "display_data"
    }
   ],
   "source": [
    "import nglview\n",
    "\n",
    "view = nglview.NGLWidget()\n",
    "data_dir = '../ngl/data/'\n",
    "pdb_fn = data_dir + '/JMJD2DA-x336_event2.pdb'\n",
    "xray_fn = data_dir + '/JMJD2DA-x336_event2.ccp4.gz'\n",
    "view.add_component(xray_fn)\n",
    "view.add_component(pdb_fn)\n",
    "view.background = 'black'\n",
    "view.stage.set_parameters(mouse_preset='coot')\n",
    "\n",
    "view"
   ]
  },
  {
   "cell_type": "code",
   "execution_count": 25,
   "metadata": {
    "collapsed": true
   },
   "outputs": [],
   "source": [
    "view.center(\"LIG\", component=1)"
   ]
  },
  {
   "cell_type": "code",
   "execution_count": 26,
   "metadata": {
    "collapsed": true
   },
   "outputs": [],
   "source": [
    "view.add_surface(\n",
    "    boxSize=10,\n",
    "    wrap=True,\n",
    "    color=\"skyblue\",\n",
    "    contour=True\n",
    ")\n",
    "view.component_1.add_cartoon()\n",
    "view.component_1.add_ball_and_stick('hetero')\n",
    "view._remote_call('setFocus', target='Stage', args=[95])"
   ]
  }
 ],
 "metadata": {
  "kernelspec": {
   "display_name": "Python 3",
   "language": "python",
   "name": "python3"
  },
  "language_info": {
   "codemirror_mode": {
    "name": "ipython",
    "version": 3
   },
   "file_extension": ".py",
   "mimetype": "text/x-python",
   "name": "python",
   "nbconvert_exporter": "python",
   "pygments_lexer": "ipython3",
   "version": "3.5.2"
  }
 },
 "nbformat": 4,
 "nbformat_minor": 2
}
