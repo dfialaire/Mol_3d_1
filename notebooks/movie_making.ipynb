{
 "cells": [
  {
   "cell_type": "code",
   "execution_count": null,
   "metadata": {},
   "outputs": [],
   "source": [
    "from IPython.display import Image"
   ]
  },
  {
   "cell_type": "code",
   "execution_count": null,
   "metadata": {},
   "outputs": [],
   "source": [
    "import nglview as nv\n",
    "from nglview.contrib.movie import MovieMaker\n",
    "import pytraj as pt\n",
    "\n",
    "traj = pt.load(nv.datafiles.XTC, nv.datafiles.PDB)[:5]\n",
    "view = nv.show_pytraj(traj, default=False)\n",
    "view.center()\n",
    "view.add_surface('protein', opacity=0.5, color='residueindex')\n",
    "view.control.orient([15.69986420582941,\n",
    " 114.8276262266868,\n",
    " 48.816742057652796,\n",
    " 0,\n",
    " -18.22863682402078,\n",
    " -46.5629522451937,\n",
    " 115.38869989652724,\n",
    " 0,\n",
    " 123.43490126182644,\n",
    " -21.481422658119275,\n",
    " 10.831316500165215,\n",
    " 0,\n",
    " -39.1268284890941,\n",
    " -46.69809684423501,\n",
    " -44.63013982367478,\n",
    " 1])\n",
    "view"
   ]
  },
  {
   "cell_type": "code",
   "execution_count": null,
   "metadata": {},
   "outputs": [],
   "source": [
    "# require: `pip install moviepy`\n",
    "\n",
    "movie = MovieMaker(view, in_memory=True, output='abc.gif')\n",
    "movie.make()"
   ]
  },
  {
   "cell_type": "code",
   "execution_count": null,
   "metadata": {},
   "outputs": [],
   "source": [
    "Image('./abc.gif')"
   ]
  }
 ],
 "metadata": {
  "kernelspec": {
   "display_name": "Python 3",
   "language": "python",
   "name": "python3"
  },
  "language_info": {
   "codemirror_mode": {
    "name": "ipython",
    "version": 3
   },
   "file_extension": ".py",
   "mimetype": "text/x-python",
   "name": "python",
   "nbconvert_exporter": "python",
   "pygments_lexer": "ipython3",
   "version": "3.7.3"
  }
 },
 "nbformat": 4,
 "nbformat_minor": 2
}
